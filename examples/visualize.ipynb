{
 "cells": [
  {
   "cell_type": "code",
   "execution_count": 1,
   "id": "253864fc",
   "metadata": {},
   "outputs": [],
   "source": [
    "import sys; sys.path.insert(0, '../')\n",
    "\n",
    "import torch\n",
    "import matplotlib.pyplot as plt\n",
    "\n",
    "from gdssm.layers import Mask\n",
    "from gdssm.networks_round import Encoder, Dynamics, Decoder\n",
    "from gdssm.utils import wrap_mP, RounDDataset"
   ]
  },
  {
   "cell_type": "code",
   "execution_count": 2,
   "id": "b583a763",
   "metadata": {},
   "outputs": [],
   "source": [
    "cuda_available = torch.cuda.is_available()\n",
    "if cuda_available:\n",
    "    device = \"cuda:0\"\n",
    "else:\n",
    "    device = \"cpu\""
   ]
  },
  {
   "cell_type": "code",
   "execution_count": 3,
   "id": "73e79635",
   "metadata": {},
   "outputs": [],
   "source": [
    "path_to_data=\"PATH_TO_PREPROCESSED_DATA\"\n",
    "scenario_Ids = list(range(2,20))\n",
    "\n",
    "dataset = RounDDataset(path_A=path_to_data, path_D=path_to_data, scenario_Ids=scenario_Ids)\n",
    "\n",
    "# normalizing, ignore values at position (0,0)\n",
    "flat_D = dataset.D.reshape(-1,2)\n",
    "mask_D = (flat_D[:,0]!=0) & (flat_D[:,1]!=0)\n",
    "\n",
    "mean = flat_D[mask_D].mean(0).unsqueeze(0)\n",
    "std =  flat_D[mask_D].std(0).unsqueeze(0)\n",
    "\n",
    "flat_D_normalized = torch.clone(flat_D)\n",
    "flat_D_normalized[mask_D] = (flat_D[mask_D] - mean)/std\n",
    "flat_D_normalized = flat_D_normalized.reshape(dataset.D.shape)\n",
    "dataset.D = flat_D_normalized\n",
    "\n",
    "mean = mean.to(device)\n",
    "std = std.to(device)"
   ]
  },
  {
   "cell_type": "code",
   "execution_count": 12,
   "id": "16d2bca6",
   "metadata": {},
   "outputs": [],
   "source": [
    "mode = \"full\"\n",
    "num_modes, D_e = 3, 4\n",
    "\n",
    "enc = Encoder(D_e=D_e, num_modes=num_modes).to(device)\n",
    "dyn = Dynamics(D_x=D_e, dt=1, mode=mode).to(device)\n",
    "dec = Decoder(D_e=D_e, mode=mode).to(device)\n",
    "\n",
    "path_enc = \"PATH_TO_TRAINED_ENC\"\n",
    "path_dyn = \"PATH_TO_TRAINED_DYN\"\n",
    "path_dec = \"PATH_TO_TRAINED_DEC\"\n",
    "enc.load_state_dict(torch.load(path_enc, map_location=device), strict=False)\n",
    "dyn.load_state_dict(torch.load(path_dyn, map_location=device), strict=False)\n",
    "dec.load_state_dict(torch.load(path_dec, map_location=device), strict=False)\n",
    "\n",
    "# extract entry from dataset\n",
    "hist, fut, A = dataset[1337]\n",
    "hist = hist.unsqueeze(0)\n",
    "fut = fut.unsqueeze(0)\n",
    "A = A.unsqueeze(0)\n",
    "\n",
    "# how many vehicles are present\n",
    "max_load = int((A.sum(1)>0).sum(1).max().numpy())\n",
    "max_load = max(1, max_load)\n",
    "\n",
    "# construct mask according to number valid vehicles\n",
    "mask = Mask(mask_type=mode, D=D_e, num_nodes=max_load)\n",
    "dyn.mask=mask\n",
    "\n",
    "# cut out zero padded values\n",
    "hist = hist[:,:max_load].to(device)\n",
    "fut = fut[:,:max_load].to(device)\n",
    "A = A[:, :max_load, :max_load].to(device)\n",
    "batch_size, num_nodes, horizon, num_feat = fut.shape   \n",
    "\n",
    "# encode history\n",
    "m_enc, P_enc, weights = enc(hist, A)\n",
    "m_enc = m_enc.reshape(batch_size*num_modes, num_nodes, D_e)\n",
    "P_enc = P_enc.reshape(batch_size*num_modes, num_nodes, D_e, num_nodes, D_e)\n",
    "P_enc = mask.filter_P(P_enc) # map P_enc to appropriate approximatin mode\n",
    "\n",
    "A_batch_modes = A.unsqueeze(1).repeat(1, num_modes, 1, 1)\n",
    "A_batch_modes = A_batch_modes.reshape(batch_size*num_modes, num_nodes, num_nodes)\n",
    "\n",
    "# propagate in latent space\n",
    "m_dec, P_dec = [], []\n",
    "for h in range(horizon):\n",
    "    if h==0:\n",
    "        new_batch=True\n",
    "    else:\n",
    "        new_batch=False\n",
    "    m_enc, P_enc = dyn.next_moments(m_enc, P_enc, A_batch_modes)       \n",
    "    m_dec_, P_dec_ = dec.next_moments(m_enc, P_enc)\n",
    "    m_dec.append(m_dec_), P_dec.append(P_dec_)\n",
    "\n",
    "m_dec = torch.stack(m_dec)\n",
    "P_dec = torch.stack(P_dec)\n",
    "\n",
    "# extract for each agent a prediction\n",
    "m_wrapped, P_wrapped = wrap_mP(m_dec, P_dec, mode)\n",
    "m_wrapped = m_wrapped.reshape(batch_size, num_modes, horizon, num_nodes, num_feat)\n",
    "P_wrapped = P_wrapped.reshape(batch_size, num_modes, horizon, num_nodes, num_feat, num_feat)"
   ]
  },
  {
   "cell_type": "code",
   "execution_count": 13,
   "id": "3fbf04a6",
   "metadata": {},
   "outputs": [
    {
     "data": {
      "image/png": "[encoded data removed]",
      "text/plain": [
       "<Figure size 864x360 with 3 Axes>"
      ]
     },
     "metadata": {
      "needs_background": "light"
     },
     "output_type": "display_data"
    }
   ],
   "source": [
    "f, ax = plt.subplots(1,num_modes, figsize=(12,5))\n",
    "for m in range(num_modes):\n",
    "    for v in range(num_nodes):\n",
    "        ax.flatten()[m].plot(m_wrapped[0, m, :, v,0].cpu().detach(), \n",
    "                 m_wrapped[0, m, :, v,1].cpu().detach(),\n",
    "                 c=\"C{}\".format(v))\n",
    "        \n",
    "    ax.flatten()[m].set_title(\"Mode: {} || Weight: {:.2f}\".format(m+1, weights.cpu().detach().numpy()[0,m]))\n",
    "    ax.flatten()[m].set_ylim(-4,4)\n",
    "    ax.flatten()[m].set_xlim(-4,4)\n",
    "    ax.flatten()[m].grid(True) "
   ]
  },
  {
   "cell_type": "code",
   "execution_count": null,
   "id": "1305dcdf",
   "metadata": {},
   "outputs": [],
   "source": []
  }
 ],
 "metadata": {
  "kernelspec": {
   "display_name": "Python 3.9.7 ('torch11.3': conda)",
   "language": "python",
   "name": "python3"
  },
  "language_info": {
   "codemirror_mode": {
    "name": "ipython",
    "version": 3
   },
   "file_extension": ".py",
   "mimetype": "text/x-python",
   "name": "python",
   "nbconvert_exporter": "python",
   "pygments_lexer": "ipython3",
   "version": "3.9.7"
  },
  "toc": {
   "base_numbering": 1,
   "nav_menu": {},
   "number_sections": true,
   "sideBar": true,
   "skip_h1_title": false,
   "title_cell": "Table of Contents",
   "title_sidebar": "Contents",
   "toc_cell": false,
   "toc_position": {},
   "toc_section_display": true,
   "toc_window_display": false
  },
  "vscode": {
   "interpreter": {
    "hash": "f89beed98c1b43bc659f5c5014429e14019ad7ec98fe3f56903b639c3abcd3a2"
   }
  }
 },
 "nbformat": 4,
 "nbformat_minor": 5
}
